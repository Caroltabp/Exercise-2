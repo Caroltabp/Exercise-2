{
 "cells": [
  {
   "cell_type": "markdown",
   "metadata": {
    "deletable": false,
    "editable": false,
    "nbgrader": {
     "cell_type": "markdown",
     "checksum": "b3f03edc2a07a39fe0afc229a42ff926",
     "grade": false,
     "grade_id": "cell-5077a9fd293c1c14",
     "locked": true,
     "schema_version": 3,
     "solution": false,
     "task": false
    }
   },
   "source": [
    "# Review module"
   ]
  },
  {
   "cell_type": "markdown",
   "metadata": {
    "deletable": false,
    "editable": false,
    "nbgrader": {
     "cell_type": "markdown",
     "checksum": "03a35065f6a4c6e3cbeb4028497dbb99",
     "grade": false,
     "grade_id": "cell-1d1fe56643ff2630",
     "locked": true,
     "schema_version": 3,
     "solution": false,
     "task": false
    }
   },
   "source": [
    "**Instructions**\n",
    "\n",
    "In order to complete this review module, we recommend you follow these instructions:\n",
    "\n",
    "1. Complete the functions provided to you in this notebook, but do **not** change the name of the function or the name(s) of the argument(s). If you do that, the autograder will fail and you will not receive any points.\n",
    "2. Run all the function-definition cells before you run the testing cells. The functions must exist before they are graded!\n",
    "3. Read the function docstrings carefully. They contain additional information about how the code should look (a [docstring](https://www.datacamp.com/community/tutorials/docstrings-python) is the stuff that comes between the triple quotes).\n",
    "4. Some functions may require several outputs (the docstrings tell you which ones). Make sure they are returned in the right order."
   ]
  },
  {
   "cell_type": "code",
   "execution_count": 1,
   "metadata": {},
   "outputs": [
    {
     "name": "stdout",
     "output_type": "stream",
     "text": [
      "Collecting matplotlib\n",
      "  Using cached matplotlib-3.5.2-cp38-cp38-manylinux_2_5_x86_64.manylinux1_x86_64.whl (11.3 MB)\n",
      "Requirement already satisfied: numpy in /opt/conda/lib/python3.8/site-packages (from -r requirements.txt (line 2)) (1.22.3)\n",
      "Requirement already satisfied: pandas in /opt/conda/lib/python3.8/site-packages (from -r requirements.txt (line 3)) (1.4.1)\n",
      "Collecting seaborn\n",
      "  Using cached seaborn-0.11.2-py3-none-any.whl (292 kB)\n",
      "Collecting statsmodels\n",
      "  Using cached statsmodels-0.13.2-cp38-cp38-manylinux_2_17_x86_64.manylinux2014_x86_64.whl (9.9 MB)\n",
      "Collecting scikit-learn\n",
      "  Using cached scikit_learn-1.1.1-cp38-cp38-manylinux_2_17_x86_64.manylinux2014_x86_64.whl (31.2 MB)\n",
      "Requirement already satisfied: ipywidgets in /opt/conda/lib/python3.8/site-packages (from -r requirements.txt (line 7)) (7.7.0)\n",
      "Collecting lxml\n",
      "  Downloading lxml-4.9.0-cp38-cp38-manylinux_2_17_x86_64.manylinux2014_x86_64.manylinux_2_24_x86_64.whl (6.9 MB)\n",
      "\u001b[K     |████████████████████████████████| 6.9 MB 4.6 MB/s eta 0:00:01\n",
      "\u001b[?25hRequirement already satisfied: ipython>=4.0.0 in /opt/conda/lib/python3.8/site-packages (from ipywidgets->-r requirements.txt (line 7)) (7.22.0)\n",
      "Requirement already satisfied: ipykernel>=4.5.1 in /opt/conda/lib/python3.8/site-packages (from ipywidgets->-r requirements.txt (line 7)) (5.5.3)\n",
      "Requirement already satisfied: nbformat>=4.2.0 in /opt/conda/lib/python3.8/site-packages (from ipywidgets->-r requirements.txt (line 7)) (5.1.3)\n",
      "Requirement already satisfied: jupyterlab-widgets>=1.0.0 in /opt/conda/lib/python3.8/site-packages (from ipywidgets->-r requirements.txt (line 7)) (1.1.0)\n",
      "Requirement already satisfied: ipython-genutils~=0.2.0 in /opt/conda/lib/python3.8/site-packages (from ipywidgets->-r requirements.txt (line 7)) (0.2.0)\n",
      "Requirement already satisfied: traitlets>=4.3.1 in /opt/conda/lib/python3.8/site-packages (from ipywidgets->-r requirements.txt (line 7)) (5.0.5)\n",
      "Requirement already satisfied: widgetsnbextension~=3.6.0 in /opt/conda/lib/python3.8/site-packages (from ipywidgets->-r requirements.txt (line 7)) (3.6.0)\n",
      "Requirement already satisfied: tornado>=4.2 in /opt/conda/lib/python3.8/site-packages (from ipykernel>=4.5.1->ipywidgets->-r requirements.txt (line 7)) (6.1)\n",
      "Requirement already satisfied: jupyter-client in /opt/conda/lib/python3.8/site-packages (from ipykernel>=4.5.1->ipywidgets->-r requirements.txt (line 7)) (6.1.12)\n",
      "Requirement already satisfied: setuptools>=18.5 in /opt/conda/lib/python3.8/site-packages (from ipython>=4.0.0->ipywidgets->-r requirements.txt (line 7)) (49.6.0.post20210108)\n",
      "Requirement already satisfied: prompt-toolkit!=3.0.0,!=3.0.1,<3.1.0,>=2.0.0 in /opt/conda/lib/python3.8/site-packages (from ipython>=4.0.0->ipywidgets->-r requirements.txt (line 7)) (3.0.18)\n",
      "Requirement already satisfied: backcall in /opt/conda/lib/python3.8/site-packages (from ipython>=4.0.0->ipywidgets->-r requirements.txt (line 7)) (0.2.0)\n",
      "Requirement already satisfied: decorator in /opt/conda/lib/python3.8/site-packages (from ipython>=4.0.0->ipywidgets->-r requirements.txt (line 7)) (5.0.6)\n",
      "Requirement already satisfied: jedi>=0.16 in /opt/conda/lib/python3.8/site-packages (from ipython>=4.0.0->ipywidgets->-r requirements.txt (line 7)) (0.18.0)\n",
      "Requirement already satisfied: pickleshare in /opt/conda/lib/python3.8/site-packages (from ipython>=4.0.0->ipywidgets->-r requirements.txt (line 7)) (0.7.5)\n",
      "Requirement already satisfied: pexpect>4.3 in /opt/conda/lib/python3.8/site-packages (from ipython>=4.0.0->ipywidgets->-r requirements.txt (line 7)) (4.8.0)\n",
      "Requirement already satisfied: pygments in /opt/conda/lib/python3.8/site-packages (from ipython>=4.0.0->ipywidgets->-r requirements.txt (line 7)) (2.8.1)\n",
      "Requirement already satisfied: parso<0.9.0,>=0.8.0 in /opt/conda/lib/python3.8/site-packages (from jedi>=0.16->ipython>=4.0.0->ipywidgets->-r requirements.txt (line 7)) (0.8.2)\n",
      "Requirement already satisfied: jupyter-core in /opt/conda/lib/python3.8/site-packages (from nbformat>=4.2.0->ipywidgets->-r requirements.txt (line 7)) (4.7.1)\n",
      "Requirement already satisfied: jsonschema!=2.5.0,>=2.4 in /opt/conda/lib/python3.8/site-packages (from nbformat>=4.2.0->ipywidgets->-r requirements.txt (line 7)) (3.2.0)\n",
      "Requirement already satisfied: six>=1.11.0 in /opt/conda/lib/python3.8/site-packages (from jsonschema!=2.5.0,>=2.4->nbformat>=4.2.0->ipywidgets->-r requirements.txt (line 7)) (1.15.0)\n",
      "Requirement already satisfied: attrs>=17.4.0 in /opt/conda/lib/python3.8/site-packages (from jsonschema!=2.5.0,>=2.4->nbformat>=4.2.0->ipywidgets->-r requirements.txt (line 7)) (20.3.0)\n",
      "Requirement already satisfied: pyrsistent>=0.14.0 in /opt/conda/lib/python3.8/site-packages (from jsonschema!=2.5.0,>=2.4->nbformat>=4.2.0->ipywidgets->-r requirements.txt (line 7)) (0.17.3)\n",
      "Requirement already satisfied: ptyprocess>=0.5 in /opt/conda/lib/python3.8/site-packages (from pexpect>4.3->ipython>=4.0.0->ipywidgets->-r requirements.txt (line 7)) (0.7.0)\n",
      "Requirement already satisfied: wcwidth in /opt/conda/lib/python3.8/site-packages (from prompt-toolkit!=3.0.0,!=3.0.1,<3.1.0,>=2.0.0->ipython>=4.0.0->ipywidgets->-r requirements.txt (line 7)) (0.2.5)\n",
      "Requirement already satisfied: notebook>=4.4.1 in /opt/conda/lib/python3.8/site-packages (from widgetsnbextension~=3.6.0->ipywidgets->-r requirements.txt (line 7)) (6.3.0)\n",
      "Requirement already satisfied: argon2-cffi in /opt/conda/lib/python3.8/site-packages (from notebook>=4.4.1->widgetsnbextension~=3.6.0->ipywidgets->-r requirements.txt (line 7)) (20.1.0)\n",
      "Requirement already satisfied: pyzmq>=17 in /opt/conda/lib/python3.8/site-packages (from notebook>=4.4.1->widgetsnbextension~=3.6.0->ipywidgets->-r requirements.txt (line 7)) (22.0.3)\n",
      "Requirement already satisfied: prometheus-client in /opt/conda/lib/python3.8/site-packages (from notebook>=4.4.1->widgetsnbextension~=3.6.0->ipywidgets->-r requirements.txt (line 7)) (0.10.0)\n",
      "Requirement already satisfied: terminado>=0.8.3 in /opt/conda/lib/python3.8/site-packages (from notebook>=4.4.1->widgetsnbextension~=3.6.0->ipywidgets->-r requirements.txt (line 7)) (0.9.4)\n",
      "Requirement already satisfied: Send2Trash>=1.5.0 in /opt/conda/lib/python3.8/site-packages (from notebook>=4.4.1->widgetsnbextension~=3.6.0->ipywidgets->-r requirements.txt (line 7)) (1.5.0)\n",
      "Requirement already satisfied: nbconvert in /opt/conda/lib/python3.8/site-packages (from notebook>=4.4.1->widgetsnbextension~=3.6.0->ipywidgets->-r requirements.txt (line 7)) (6.0.7)\n",
      "Requirement already satisfied: jinja2 in /opt/conda/lib/python3.8/site-packages (from notebook>=4.4.1->widgetsnbextension~=3.6.0->ipywidgets->-r requirements.txt (line 7)) (2.11.3)\n",
      "Requirement already satisfied: python-dateutil>=2.1 in /opt/conda/lib/python3.8/site-packages (from jupyter-client->ipykernel>=4.5.1->ipywidgets->-r requirements.txt (line 7)) (2.8.1)\n",
      "Collecting kiwisolver>=1.0.1\n",
      "  Using cached kiwisolver-1.4.3-cp38-cp38-manylinux_2_5_x86_64.manylinux1_x86_64.whl (1.2 MB)\n",
      "Collecting pillow>=6.2.0\n",
      "  Using cached Pillow-9.1.1-cp38-cp38-manylinux_2_17_x86_64.manylinux2014_x86_64.whl (3.1 MB)\n",
      "Collecting cycler>=0.10\n",
      "  Using cached cycler-0.11.0-py3-none-any.whl (6.4 kB)\n",
      "Collecting fonttools>=4.22.0\n",
      "  Using cached fonttools-4.33.3-py3-none-any.whl (930 kB)\n",
      "Requirement already satisfied: packaging>=20.0 in /opt/conda/lib/python3.8/site-packages (from matplotlib->-r requirements.txt (line 1)) (20.9)\n",
      "Requirement already satisfied: pyparsing>=2.2.1 in /opt/conda/lib/python3.8/site-packages (from matplotlib->-r requirements.txt (line 1)) (2.4.7)\n",
      "Requirement already satisfied: pytz>=2020.1 in /opt/conda/lib/python3.8/site-packages (from pandas->-r requirements.txt (line 3)) (2021.1)\n",
      "Collecting threadpoolctl>=2.0.0\n",
      "  Using cached threadpoolctl-3.1.0-py3-none-any.whl (14 kB)\n",
      "Collecting scipy>=1.3.2\n",
      "  Using cached scipy-1.8.1-cp38-cp38-manylinux_2_17_x86_64.manylinux2014_x86_64.whl (41.6 MB)\n",
      "Collecting joblib>=1.0.0\n",
      "  Using cached joblib-1.1.0-py2.py3-none-any.whl (306 kB)\n",
      "Collecting patsy>=0.5.2\n",
      "  Using cached patsy-0.5.2-py2.py3-none-any.whl (233 kB)\n",
      "Collecting packaging>=20.0\n",
      "  Using cached packaging-21.3-py3-none-any.whl (40 kB)\n",
      "Requirement already satisfied: cffi>=1.0.0 in /opt/conda/lib/python3.8/site-packages (from argon2-cffi->notebook>=4.4.1->widgetsnbextension~=3.6.0->ipywidgets->-r requirements.txt (line 7)) (1.15.0)\n",
      "Requirement already satisfied: pycparser in /opt/conda/lib/python3.8/site-packages (from cffi>=1.0.0->argon2-cffi->notebook>=4.4.1->widgetsnbextension~=3.6.0->ipywidgets->-r requirements.txt (line 7)) (2.20)\n",
      "Requirement already satisfied: MarkupSafe>=0.23 in /opt/conda/lib/python3.8/site-packages (from jinja2->notebook>=4.4.1->widgetsnbextension~=3.6.0->ipywidgets->-r requirements.txt (line 7)) (1.1.1)\n",
      "Requirement already satisfied: bleach in /opt/conda/lib/python3.8/site-packages (from nbconvert->notebook>=4.4.1->widgetsnbextension~=3.6.0->ipywidgets->-r requirements.txt (line 7)) (3.3.0)\n",
      "Requirement already satisfied: pandocfilters>=1.4.1 in /opt/conda/lib/python3.8/site-packages (from nbconvert->notebook>=4.4.1->widgetsnbextension~=3.6.0->ipywidgets->-r requirements.txt (line 7)) (1.4.2)\n",
      "Requirement already satisfied: entrypoints>=0.2.2 in /opt/conda/lib/python3.8/site-packages (from nbconvert->notebook>=4.4.1->widgetsnbextension~=3.6.0->ipywidgets->-r requirements.txt (line 7)) (0.3)\n",
      "Requirement already satisfied: defusedxml in /opt/conda/lib/python3.8/site-packages (from nbconvert->notebook>=4.4.1->widgetsnbextension~=3.6.0->ipywidgets->-r requirements.txt (line 7)) (0.7.1)\n",
      "Requirement already satisfied: jupyterlab-pygments in /opt/conda/lib/python3.8/site-packages (from nbconvert->notebook>=4.4.1->widgetsnbextension~=3.6.0->ipywidgets->-r requirements.txt (line 7)) (0.1.2)\n",
      "Requirement already satisfied: mistune<2,>=0.8.1 in /opt/conda/lib/python3.8/site-packages (from nbconvert->notebook>=4.4.1->widgetsnbextension~=3.6.0->ipywidgets->-r requirements.txt (line 7)) (0.8.4)\n",
      "Requirement already satisfied: nbclient<0.6.0,>=0.5.0 in /opt/conda/lib/python3.8/site-packages (from nbconvert->notebook>=4.4.1->widgetsnbextension~=3.6.0->ipywidgets->-r requirements.txt (line 7)) (0.5.3)\n",
      "Requirement already satisfied: testpath in /opt/conda/lib/python3.8/site-packages (from nbconvert->notebook>=4.4.1->widgetsnbextension~=3.6.0->ipywidgets->-r requirements.txt (line 7)) (0.4.4)\n",
      "Requirement already satisfied: async-generator in /opt/conda/lib/python3.8/site-packages (from nbclient<0.6.0,>=0.5.0->nbconvert->notebook>=4.4.1->widgetsnbextension~=3.6.0->ipywidgets->-r requirements.txt (line 7)) (1.10)\n",
      "Requirement already satisfied: nest-asyncio in /opt/conda/lib/python3.8/site-packages (from nbclient<0.6.0,>=0.5.0->nbconvert->notebook>=4.4.1->widgetsnbextension~=3.6.0->ipywidgets->-r requirements.txt (line 7)) (1.5.1)\n",
      "Requirement already satisfied: webencodings in /opt/conda/lib/python3.8/site-packages (from bleach->nbconvert->notebook>=4.4.1->widgetsnbextension~=3.6.0->ipywidgets->-r requirements.txt (line 7)) (0.5.1)\n",
      "Installing collected packages: packaging, pillow, kiwisolver, fonttools, cycler, threadpoolctl, scipy, patsy, matplotlib, joblib, statsmodels, seaborn, scikit-learn, lxml\n",
      "  Attempting uninstall: packaging\n",
      "    Found existing installation: packaging 20.9\n",
      "    Uninstalling packaging-20.9:\n",
      "      Successfully uninstalled packaging-20.9\n",
      "Successfully installed cycler-0.11.0 fonttools-4.33.3 joblib-1.1.0 kiwisolver-1.4.3 lxml-4.9.0 matplotlib-3.5.2 packaging-21.3 patsy-0.5.2 pillow-9.1.1 scikit-learn-1.1.1 scipy-1.8.1 seaborn-0.11.2 statsmodels-0.13.2 threadpoolctl-3.1.0\n"
     ]
    }
   ],
   "source": [
    "!pip install -r requirements.txt"
   ]
  },
  {
   "cell_type": "markdown",
   "metadata": {
    "deletable": false,
    "editable": false,
    "nbgrader": {
     "cell_type": "markdown",
     "checksum": "a8683e032604423ff7bad0979b88befb",
     "grade": false,
     "grade_id": "cell-621bbf3c8c713af3",
     "locked": true,
     "schema_version": 3,
     "solution": false,
     "task": false
    }
   },
   "source": [
    "## Exercise 1\n",
    "\n",
    "This is a dataset of college admissions."
   ]
  },
  {
   "cell_type": "code",
   "execution_count": 2,
   "metadata": {
    "deletable": false,
    "editable": false,
    "nbgrader": {
     "cell_type": "code",
     "checksum": "9d6c7e7b246d82b6b215b2dd71888491",
     "grade": false,
     "grade_id": "cell-5c41c0245a87b6e6",
     "locked": true,
     "schema_version": 3,
     "solution": false,
     "task": false
    }
   },
   "outputs": [
    {
     "data": {
      "text/html": [
       "<div>\n",
       "<style scoped>\n",
       "    .dataframe tbody tr th:only-of-type {\n",
       "        vertical-align: middle;\n",
       "    }\n",
       "\n",
       "    .dataframe tbody tr th {\n",
       "        vertical-align: top;\n",
       "    }\n",
       "\n",
       "    .dataframe thead th {\n",
       "        text-align: right;\n",
       "    }\n",
       "</style>\n",
       "<table border=\"1\" class=\"dataframe\">\n",
       "  <thead>\n",
       "    <tr style=\"text-align: right;\">\n",
       "      <th></th>\n",
       "      <th>admit</th>\n",
       "      <th>gre</th>\n",
       "      <th>gpa</th>\n",
       "      <th>rank</th>\n",
       "    </tr>\n",
       "  </thead>\n",
       "  <tbody>\n",
       "    <tr>\n",
       "      <th>0</th>\n",
       "      <td>0</td>\n",
       "      <td>380</td>\n",
       "      <td>3.61</td>\n",
       "      <td>3</td>\n",
       "    </tr>\n",
       "    <tr>\n",
       "      <th>1</th>\n",
       "      <td>1</td>\n",
       "      <td>660</td>\n",
       "      <td>3.67</td>\n",
       "      <td>3</td>\n",
       "    </tr>\n",
       "    <tr>\n",
       "      <th>2</th>\n",
       "      <td>1</td>\n",
       "      <td>800</td>\n",
       "      <td>4.00</td>\n",
       "      <td>1</td>\n",
       "    </tr>\n",
       "    <tr>\n",
       "      <th>3</th>\n",
       "      <td>1</td>\n",
       "      <td>640</td>\n",
       "      <td>3.19</td>\n",
       "      <td>4</td>\n",
       "    </tr>\n",
       "    <tr>\n",
       "      <th>4</th>\n",
       "      <td>0</td>\n",
       "      <td>520</td>\n",
       "      <td>2.93</td>\n",
       "      <td>4</td>\n",
       "    </tr>\n",
       "  </tbody>\n",
       "</table>\n",
       "</div>"
      ],
      "text/plain": [
       "   admit  gre   gpa  rank\n",
       "0      0  380  3.61     3\n",
       "1      1  660  3.67     3\n",
       "2      1  800  4.00     1\n",
       "3      1  640  3.19     4\n",
       "4      0  520  2.93     4"
      ]
     },
     "execution_count": 2,
     "metadata": {},
     "output_type": "execute_result"
    }
   ],
   "source": [
    "import pandas as pd\n",
    "import statsmodels.api as sm\n",
    "\n",
    "df = pd.read_csv(\"data/data.csv\")\n",
    "df.head()"
   ]
  },
  {
   "cell_type": "markdown",
   "metadata": {
    "deletable": false,
    "editable": false,
    "nbgrader": {
     "cell_type": "markdown",
     "checksum": "af74ac2a1e0b301f402bb77f739364f8",
     "grade": false,
     "grade_id": "cell-529877183a33b6f9",
     "locked": true,
     "schema_version": 3,
     "solution": false,
     "task": false
    }
   },
   "source": [
    "Create a logistic regression model that predicts `admit` from `gre`, `gpa`, and `rank` (`rank` measures the prestige of the institution - where 1 is the highest prestige ranking and 4 is the lowest prestige ranking). Don't forget to normalize `gre` and `gpa` by subtracting the mean and dividing by the standard deviation (call the new columns `gre_normalized`and `gpa_normalized`, respectively).\n",
    "\n",
    "**Hint:** Use `df[\"Intercept\"] = 1` to define the intercept that you have to pass to `statsmodels` to initialize the model."
   ]
  },
  {
   "cell_type": "code",
   "execution_count": 7,
   "metadata": {},
   "outputs": [],
   "source": [
    "df_tst = df.copy()\n",
    "df_tst['gre_normalized'] = (df_tst['gre'] - df_tst['gre'].mean()) / df_tst['gre'].std()\n",
    "df_tst['gpa_normalized'] = (df_tst['gpa'] - df_tst['gpa'].mean()) / df_tst['gpa'].std()"
   ]
  },
  {
   "cell_type": "code",
   "execution_count": 9,
   "metadata": {},
   "outputs": [
    {
     "name": "stdout",
     "output_type": "stream",
     "text": [
      "Optimization terminated successfully.\n",
      "         Current function value: 0.574302\n",
      "         Iterations 5\n"
     ]
    },
    {
     "data": {
      "text/html": [
       "<table class=\"simpletable\">\n",
       "<caption>Logit Regression Results</caption>\n",
       "<tr>\n",
       "  <th>Dep. Variable:</th>         <td>admit</td>      <th>  No. Observations:  </th>  <td>   400</td>  \n",
       "</tr>\n",
       "<tr>\n",
       "  <th>Model:</th>                 <td>Logit</td>      <th>  Df Residuals:      </th>  <td>   396</td>  \n",
       "</tr>\n",
       "<tr>\n",
       "  <th>Method:</th>                 <td>MLE</td>       <th>  Df Model:          </th>  <td>     3</td>  \n",
       "</tr>\n",
       "<tr>\n",
       "  <th>Date:</th>            <td>Sat, 18 Jun 2022</td> <th>  Pseudo R-squ.:     </th>  <td>0.08107</td> \n",
       "</tr>\n",
       "<tr>\n",
       "  <th>Time:</th>                <td>23:29:49</td>     <th>  Log-Likelihood:    </th> <td> -229.72</td> \n",
       "</tr>\n",
       "<tr>\n",
       "  <th>converged:</th>             <td>True</td>       <th>  LL-Null:           </th> <td> -249.99</td> \n",
       "</tr>\n",
       "<tr>\n",
       "  <th>Covariance Type:</th>     <td>nonrobust</td>    <th>  LLR p-value:       </th> <td>8.207e-09</td>\n",
       "</tr>\n",
       "</table>\n",
       "<table class=\"simpletable\">\n",
       "<tr>\n",
       "         <td></td>           <th>coef</th>     <th>std err</th>      <th>z</th>      <th>P>|z|</th>  <th>[0.025</th>    <th>0.975]</th>  \n",
       "</tr>\n",
       "<tr>\n",
       "  <th>Intercept</th>      <td>    0.5326</td> <td>    0.315</td> <td>    1.689</td> <td> 0.091</td> <td>   -0.086</td> <td>    1.151</td>\n",
       "</tr>\n",
       "<tr>\n",
       "  <th>gre_normalized</th> <td>    0.2650</td> <td>    0.126</td> <td>    2.101</td> <td> 0.036</td> <td>    0.018</td> <td>    0.512</td>\n",
       "</tr>\n",
       "<tr>\n",
       "  <th>gpa_normalized</th> <td>    0.2957</td> <td>    0.125</td> <td>    2.373</td> <td> 0.018</td> <td>    0.051</td> <td>    0.540</td>\n",
       "</tr>\n",
       "<tr>\n",
       "  <th>rank</th>           <td>   -0.5600</td> <td>    0.127</td> <td>   -4.405</td> <td> 0.000</td> <td>   -0.809</td> <td>   -0.311</td>\n",
       "</tr>\n",
       "</table>"
      ],
      "text/plain": [
       "<class 'statsmodels.iolib.summary.Summary'>\n",
       "\"\"\"\n",
       "                           Logit Regression Results                           \n",
       "==============================================================================\n",
       "Dep. Variable:                  admit   No. Observations:                  400\n",
       "Model:                          Logit   Df Residuals:                      396\n",
       "Method:                           MLE   Df Model:                            3\n",
       "Date:                Sat, 18 Jun 2022   Pseudo R-squ.:                 0.08107\n",
       "Time:                        23:29:49   Log-Likelihood:                -229.72\n",
       "converged:                       True   LL-Null:                       -249.99\n",
       "Covariance Type:            nonrobust   LLR p-value:                 8.207e-09\n",
       "==================================================================================\n",
       "                     coef    std err          z      P>|z|      [0.025      0.975]\n",
       "----------------------------------------------------------------------------------\n",
       "Intercept          0.5326      0.315      1.689      0.091      -0.086       1.151\n",
       "gre_normalized     0.2650      0.126      2.101      0.036       0.018       0.512\n",
       "gpa_normalized     0.2957      0.125      2.373      0.018       0.051       0.540\n",
       "rank              -0.5600      0.127     -4.405      0.000      -0.809      -0.311\n",
       "==================================================================================\n",
       "\"\"\""
      ]
     },
     "execution_count": 9,
     "metadata": {},
     "output_type": "execute_result"
    }
   ],
   "source": [
    "df_tst['Intercept'] = 1\n",
    "\n",
    "model_tst = sm.Logit(df_tst['admit'], df_tst[['Intercept', 'gre_normalized', 'gpa_normalized', 'rank']])\n",
    "model_res_tst = model_tst.fit()\n",
    "model_res_tst.summary()"
   ]
  },
  {
   "cell_type": "code",
   "execution_count": 11,
   "metadata": {
    "deletable": false,
    "nbgrader": {
     "cell_type": "code",
     "checksum": "c36541dd1aab6304f68b6be522dff864",
     "grade": false,
     "grade_id": "cell-20b276b659dd69ac",
     "locked": false,
     "schema_version": 3,
     "solution": true,
     "task": false
    }
   },
   "outputs": [],
   "source": [
    "def fit_logistic_regression():\n",
    "    \"\"\"\n",
    "    Create a logistic regression model\n",
    "    and fit it to `df`. The model predicts\n",
    "    `admit` from `gre`, `gpa`, and `rank`, and\n",
    "    outputs `model_res`, which results from\n",
    "    fitting the model to the dataset using the\n",
    "    `.fit()` method.    \n",
    "    \"\"\"\n",
    "    # YOUR CODE HERE\n",
    "    df['gpa_normalized'] = (df['gpa'] - df['gpa'].mean()) / df['gpa'].std()\n",
    "    df['gre_normalized'] = (df['gre'] - df['gre'].mean()) / df['gre'].std()\n",
    "    df['Intercept'] = 1\n",
    "\n",
    "    model = sm.Logit(df['admit'], df[['Intercept', 'gre_normalized', 'gpa_normalized', 'rank']])\n",
    "    \n",
    "    model_res = model.fit(disp=False) # We use disp=False to turn off verbosity\n",
    "    return model_res"
   ]
  },
  {
   "cell_type": "markdown",
   "metadata": {
    "deletable": false,
    "editable": false,
    "nbgrader": {
     "cell_type": "markdown",
     "checksum": "b18b820a83e3d1b1b5b64d88fadd8bbf",
     "grade": false,
     "grade_id": "cell-8c448cb067cd94dc",
     "locked": true,
     "schema_version": 3,
     "solution": false,
     "task": false
    }
   },
   "source": [
    "## Exercise 2\n",
    "\n",
    "Use the `roc_curve` function from `sklearn` to calculate the ROC curve for the model you have just created. The function `calculate_roc()` as such should not plot the curve, but rather calculate its coordinates. We have provided you with additional code as a convenience to help check that your ROC looks correct. That plotting code is not part of your assignment, so it is not required that you modify it."
   ]
  },
  {
   "cell_type": "code",
   "execution_count": 12,
   "metadata": {
    "deletable": false,
    "nbgrader": {
     "cell_type": "code",
     "checksum": "6feeb3db49f3e056b9d1238aed771419",
     "grade": false,
     "grade_id": "cell-74030a045d191d19",
     "locked": false,
     "schema_version": 3,
     "solution": true,
     "task": false
    }
   },
   "outputs": [
    {
     "data": {
      "image/png": "[encoded data removed]",
      "text/plain": [
       "<Figure size 432x288 with 1 Axes>"
      ]
     },
     "metadata": {
      "needs_background": "light"
     },
     "output_type": "display_data"
    }
   ],
   "source": [
    "from sklearn.metrics import roc_curve, auc\n",
    "import matplotlib.pyplot as plt\n",
    "\n",
    "\n",
    "def calculate_roc(model_res):\n",
    "    \"\"\"\n",
    "    Calculates the ROC curve for the logistic regression\n",
    "    defined in the `fit_logistic_regression()` function\n",
    "    \n",
    "    Arguments:\n",
    "    `model_res`: This is the output of the \n",
    "    `fit_logistic_regression()` function\n",
    "    \n",
    "    Output:\n",
    "    `roc_p`: A tuple of numpy arrays generated by the\n",
    "    `roc_curve()` function from sklearn.\n",
    "    \n",
    "    \"\"\"\n",
    "    \n",
    "    # YOUR CODE HERE\n",
    "    predict_p = model_res.predict(df[['Intercept', 'gre_normalized', 'gpa_normalized', 'rank']])\n",
    "    roc_p = roc_curve(df['admit'], predict_p)\n",
    "    return roc_p\n",
    "\n",
    "    \n",
    "# The code below is to help you visualize your curve - No need to modify it\n",
    "model_res = fit_logistic_regression()\n",
    "roc_p = calculate_roc(model_res)\n",
    "plt.figure()\n",
    "line_width = 2\n",
    "plt.plot(roc_p[0], roc_p[1], color='darkorange', lw=line_width, label=f'ROC curve')\n",
    "plt.plot([0, 1], [0, 1], color='navy', lw=line_width, linestyle='--', label='Random guess')\n",
    "plt.xlim([0.0, 1.0])\n",
    "plt.ylim([0.0, 1.05])\n",
    "plt.xlabel('False Positive Rate')\n",
    "plt.ylabel('True Positive Rate')\n",
    "plt.title('Classification of admitted / not admitted')\n",
    "plt.legend(loc='lower right')\n",
    "plt.show()"
   ]
  },
  {
   "cell_type": "markdown",
   "metadata": {
    "deletable": false,
    "editable": false,
    "nbgrader": {
     "cell_type": "markdown",
     "checksum": "71532f4e16a7c6816f3ef460ab177f0c",
     "grade": false,
     "grade_id": "cell-d49a4751fe533e10",
     "locked": true,
     "schema_version": 3,
     "solution": false,
     "task": false
    }
   },
   "source": [
    "## Exercise 3\n",
    "\n",
    "\n",
    "Complete the function below to classify applicants depending on `gre`, `gpa` and `rank`. It should take a cut-off probability $p$ and classify applicants following this decision tree:\n",
    "\n",
    "~~~plain\n",
    "If predicted value is less than c, then classify as not admitted.\n",
    "Classify as admitted otherwise.\n",
    "~~~\n",
    "\n",
    "Where $c$ is the cut-off value of your logistic regression.\n",
    "\n",
    "**Hints:**\n",
    "* Remember that your cut-off value $c$ is not the same as your cut-off probability $p$. $c$ is the log-odds of $p$ (you can use the `log` function from `numpy` to help you compute $c$).\n",
    "* Notice also that your function must return an object of type `bool`.\n",
    "* The function takes as inputs `gre` and `gpa` in their normalized versions, that is, after you've subtracted their means and divided by the respective standard deviations. You don't really need to doing anything about this, because the model you created in exercise 1 already uses normalized variables.\n",
    "* We provided you with some code to help you check your results. You don't need to modify it."
   ]
  },
  {
   "cell_type": "code",
   "execution_count": 13,
   "metadata": {
    "deletable": false,
    "nbgrader": {
     "cell_type": "code",
     "checksum": "a51e0fb1eb571dca73e2c15dbe382c36",
     "grade": false,
     "grade_id": "cell-8803a0ce347c8810",
     "locked": false,
     "schema_version": 3,
     "solution": true,
     "task": false
    }
   },
   "outputs": [
    {
     "data": {
      "text/html": [
       "<div>\n",
       "<style scoped>\n",
       "    .dataframe tbody tr th:only-of-type {\n",
       "        vertical-align: middle;\n",
       "    }\n",
       "\n",
       "    .dataframe tbody tr th {\n",
       "        vertical-align: top;\n",
       "    }\n",
       "\n",
       "    .dataframe thead th {\n",
       "        text-align: right;\n",
       "    }\n",
       "</style>\n",
       "<table border=\"1\" class=\"dataframe\">\n",
       "  <thead>\n",
       "    <tr style=\"text-align: right;\">\n",
       "      <th></th>\n",
       "      <th>gre_normalized</th>\n",
       "      <th>gpa_normalized</th>\n",
       "      <th>rank</th>\n",
       "      <th>admitted_p_0.1</th>\n",
       "      <th>admitted_p_0.5</th>\n",
       "      <th>admitted_p_0.9</th>\n",
       "    </tr>\n",
       "  </thead>\n",
       "  <tbody>\n",
       "    <tr>\n",
       "      <th>141</th>\n",
       "      <td>0.972155</td>\n",
       "      <td>0.341859</td>\n",
       "      <td>4</td>\n",
       "      <td>True</td>\n",
       "      <td>False</td>\n",
       "      <td>False</td>\n",
       "    </tr>\n",
       "    <tr>\n",
       "      <th>174</th>\n",
       "      <td>-0.759199</td>\n",
       "      <td>0.368135</td>\n",
       "      <td>4</td>\n",
       "      <td>True</td>\n",
       "      <td>False</td>\n",
       "      <td>False</td>\n",
       "    </tr>\n",
       "    <tr>\n",
       "      <th>331</th>\n",
       "      <td>0.625884</td>\n",
       "      <td>0.525795</td>\n",
       "      <td>3</td>\n",
       "      <td>True</td>\n",
       "      <td>False</td>\n",
       "      <td>False</td>\n",
       "    </tr>\n",
       "    <tr>\n",
       "      <th>135</th>\n",
       "      <td>-0.759199</td>\n",
       "      <td>0.473242</td>\n",
       "      <td>3</td>\n",
       "      <td>True</td>\n",
       "      <td>False</td>\n",
       "      <td>False</td>\n",
       "    </tr>\n",
       "    <tr>\n",
       "      <th>398</th>\n",
       "      <td>0.972155</td>\n",
       "      <td>0.683454</td>\n",
       "      <td>2</td>\n",
       "      <td>True</td>\n",
       "      <td>False</td>\n",
       "      <td>False</td>\n",
       "    </tr>\n",
       "    <tr>\n",
       "      <th>80</th>\n",
       "      <td>0.972155</td>\n",
       "      <td>-1.287291</td>\n",
       "      <td>4</td>\n",
       "      <td>True</td>\n",
       "      <td>False</td>\n",
       "      <td>False</td>\n",
       "    </tr>\n",
       "    <tr>\n",
       "      <th>22</th>\n",
       "      <td>0.106478</td>\n",
       "      <td>-1.497503</td>\n",
       "      <td>4</td>\n",
       "      <td>True</td>\n",
       "      <td>False</td>\n",
       "      <td>False</td>\n",
       "    </tr>\n",
       "    <tr>\n",
       "      <th>203</th>\n",
       "      <td>-1.451740</td>\n",
       "      <td>1.392922</td>\n",
       "      <td>4</td>\n",
       "      <td>True</td>\n",
       "      <td>False</td>\n",
       "      <td>False</td>\n",
       "    </tr>\n",
       "    <tr>\n",
       "      <th>198</th>\n",
       "      <td>0.106478</td>\n",
       "      <td>0.630901</td>\n",
       "      <td>3</td>\n",
       "      <td>True</td>\n",
       "      <td>False</td>\n",
       "      <td>False</td>\n",
       "    </tr>\n",
       "    <tr>\n",
       "      <th>54</th>\n",
       "      <td>0.625884</td>\n",
       "      <td>-0.131120</td>\n",
       "      <td>3</td>\n",
       "      <td>True</td>\n",
       "      <td>False</td>\n",
       "      <td>False</td>\n",
       "    </tr>\n",
       "    <tr>\n",
       "      <th>315</th>\n",
       "      <td>-2.490553</td>\n",
       "      <td>-1.444950</td>\n",
       "      <td>2</td>\n",
       "      <td>True</td>\n",
       "      <td>False</td>\n",
       "      <td>False</td>\n",
       "    </tr>\n",
       "    <tr>\n",
       "      <th>370</th>\n",
       "      <td>-0.412928</td>\n",
       "      <td>0.998773</td>\n",
       "      <td>2</td>\n",
       "      <td>True</td>\n",
       "      <td>False</td>\n",
       "      <td>False</td>\n",
       "    </tr>\n",
       "    <tr>\n",
       "      <th>276</th>\n",
       "      <td>-1.105469</td>\n",
       "      <td>0.998773</td>\n",
       "      <td>3</td>\n",
       "      <td>True</td>\n",
       "      <td>False</td>\n",
       "      <td>False</td>\n",
       "    </tr>\n",
       "    <tr>\n",
       "      <th>283</th>\n",
       "      <td>-0.586063</td>\n",
       "      <td>-0.761759</td>\n",
       "      <td>4</td>\n",
       "      <td>True</td>\n",
       "      <td>False</td>\n",
       "      <td>False</td>\n",
       "    </tr>\n",
       "    <tr>\n",
       "      <th>304</th>\n",
       "      <td>-3.183094</td>\n",
       "      <td>-1.471227</td>\n",
       "      <td>3</td>\n",
       "      <td>False</td>\n",
       "      <td>False</td>\n",
       "      <td>False</td>\n",
       "    </tr>\n",
       "    <tr>\n",
       "      <th>337</th>\n",
       "      <td>0.279614</td>\n",
       "      <td>-0.788035</td>\n",
       "      <td>4</td>\n",
       "      <td>True</td>\n",
       "      <td>False</td>\n",
       "      <td>False</td>\n",
       "    </tr>\n",
       "    <tr>\n",
       "      <th>130</th>\n",
       "      <td>0.279614</td>\n",
       "      <td>-0.577822</td>\n",
       "      <td>2</td>\n",
       "      <td>True</td>\n",
       "      <td>False</td>\n",
       "      <td>False</td>\n",
       "    </tr>\n",
       "    <tr>\n",
       "      <th>153</th>\n",
       "      <td>-0.066657</td>\n",
       "      <td>0.184199</td>\n",
       "      <td>3</td>\n",
       "      <td>True</td>\n",
       "      <td>False</td>\n",
       "      <td>False</td>\n",
       "    </tr>\n",
       "    <tr>\n",
       "      <th>352</th>\n",
       "      <td>-0.066657</td>\n",
       "      <td>-0.709205</td>\n",
       "      <td>3</td>\n",
       "      <td>True</td>\n",
       "      <td>False</td>\n",
       "      <td>False</td>\n",
       "    </tr>\n",
       "    <tr>\n",
       "      <th>245</th>\n",
       "      <td>1.837832</td>\n",
       "      <td>1.366646</td>\n",
       "      <td>3</td>\n",
       "      <td>True</td>\n",
       "      <td>False</td>\n",
       "      <td>False</td>\n",
       "    </tr>\n",
       "  </tbody>\n",
       "</table>\n",
       "</div>"
      ],
      "text/plain": [
       "     gre_normalized  gpa_normalized  rank  admitted_p_0.1  admitted_p_0.5  \\\n",
       "141        0.972155        0.341859     4            True           False   \n",
       "174       -0.759199        0.368135     4            True           False   \n",
       "331        0.625884        0.525795     3            True           False   \n",
       "135       -0.759199        0.473242     3            True           False   \n",
       "398        0.972155        0.683454     2            True           False   \n",
       "80         0.972155       -1.287291     4            True           False   \n",
       "22         0.106478       -1.497503     4            True           False   \n",
       "203       -1.451740        1.392922     4            True           False   \n",
       "198        0.106478        0.630901     3            True           False   \n",
       "54         0.625884       -0.131120     3            True           False   \n",
       "315       -2.490553       -1.444950     2            True           False   \n",
       "370       -0.412928        0.998773     2            True           False   \n",
       "276       -1.105469        0.998773     3            True           False   \n",
       "283       -0.586063       -0.761759     4            True           False   \n",
       "304       -3.183094       -1.471227     3           False           False   \n",
       "337        0.279614       -0.788035     4            True           False   \n",
       "130        0.279614       -0.577822     2            True           False   \n",
       "153       -0.066657        0.184199     3            True           False   \n",
       "352       -0.066657       -0.709205     3            True           False   \n",
       "245        1.837832        1.366646     3            True           False   \n",
       "\n",
       "     admitted_p_0.9  \n",
       "141           False  \n",
       "174           False  \n",
       "331           False  \n",
       "135           False  \n",
       "398           False  \n",
       "80            False  \n",
       "22            False  \n",
       "203           False  \n",
       "198           False  \n",
       "54            False  \n",
       "315           False  \n",
       "370           False  \n",
       "276           False  \n",
       "283           False  \n",
       "304           False  \n",
       "337           False  \n",
       "130           False  \n",
       "153           False  \n",
       "352           False  \n",
       "245           False  "
      ]
     },
     "execution_count": 13,
     "metadata": {},
     "output_type": "execute_result"
    }
   ],
   "source": [
    "import numpy as np\n",
    "\n",
    "def classify(p, gre_norm, gpa_norm, rank):\n",
    "    \"\"\"\n",
    "    Classify an applicant as admitted or not admitted\n",
    "    depending on their gre, gpa and rank.\n",
    "    \n",
    "    Arguments:\n",
    "    `p`: The cut-off probability\n",
    "    `gre_norm`: The applicant's GRE, normalized.\n",
    "    `gpa_norm`: The applicant's GPA, normalized.\n",
    "    `rank`: The rank of the institution.\n",
    "    \n",
    "    Outputs:\n",
    "    A boolean that is True if admitted, and False if not admitted.\n",
    "    \"\"\"\n",
    "\n",
    "    l = fit_logistic_regression().params\n",
    "    intercept, coef_gre, coef_gpa, coef_rank = l[0], l[1], l[2], l[3]\n",
    "\n",
    "    # YOUR CODE HERE\n",
    "    return (intercept + coef_gre*gre_norm + coef_gpa*gpa_norm + coef_rank*rank) >= np.log(p/(1-p))\n",
    "\n",
    "\n",
    "# The code below is to help you check your results - No need to modify it\n",
    "class_as_admitted = []\n",
    "res = df[[\"gre_normalized\", \"gpa_normalized\", \"rank\"]].sample(20)\n",
    "for p in [0.1, 0.5, 0.9]:\n",
    "    res[\"admitted_p_\" + str(p)] = res[[\"gre_normalized\", \"gpa_normalized\", \"rank\"]].apply(lambda x: classify(p, x[0], x[1], x[2]), axis=1)\n",
    "res"
   ]
  },
  {
   "cell_type": "code",
   "execution_count": 18,
   "metadata": {},
   "outputs": [
    {
     "data": {
      "text/plain": [
       "Intercept         0.532610\n",
       "gre_normalized    0.264990\n",
       "gpa_normalized    0.295706\n",
       "rank             -0.560031\n",
       "dtype: float64"
      ]
     },
     "execution_count": 18,
     "metadata": {},
     "output_type": "execute_result"
    }
   ],
   "source": [
    "fit_logistic_regression().params"
   ]
  },
  {
   "cell_type": "code",
   "execution_count": 17,
   "metadata": {
    "scrolled": true
   },
   "outputs": [
    {
     "data": {
      "text/plain": [
       "False"
      ]
     },
     "execution_count": 17,
     "metadata": {},
     "output_type": "execute_result"
    }
   ],
   "source": [
    "0.532610+0.264990*(0.799020)+0.295706*(-0.735482)-0.560031*(2)>=np.log(0.9/(1-0.9))"
   ]
  },
  {
   "cell_type": "markdown",
   "metadata": {
    "deletable": false,
    "editable": false,
    "nbgrader": {
     "cell_type": "markdown",
     "checksum": "d7a4bf3aab28632b79ffdbd8bc768249",
     "grade": false,
     "grade_id": "cell-d83935fb5c7cedec",
     "locked": true,
     "schema_version": 3,
     "solution": false,
     "task": false
    }
   },
   "source": [
    "## Testing Cells\n",
    "\n",
    "Run the below cells to check your answers. Make sure you run your solution cells first before running the cells below, otherwise you will get a `NameError` when checking your answers."
   ]
  },
  {
   "cell_type": "code",
   "execution_count": 14,
   "metadata": {
    "deletable": false,
    "editable": false,
    "nbgrader": {
     "cell_type": "code",
     "checksum": "68e0635832269a8023b5bad62acdf235",
     "grade": true,
     "grade_id": "cell-ed44f7a61b0c9a8f",
     "locked": true,
     "points": 1,
     "schema_version": 3,
     "solution": false,
     "task": false
    }
   },
   "outputs": [
    {
     "name": "stdout",
     "output_type": "stream",
     "text": [
      "Exercise 1 looks correct!\n"
     ]
    }
   ],
   "source": [
    "# Ex. 1 (one point)\n",
    "s = fit_logistic_regression().summary().tables[1].as_html()\n",
    "sdf = pd.read_html(s,header=0,index_col=0)[0][[\"coef\", \"P>|z|\"]]\n",
    "co = list(sdf[\"coef\"])\n",
    "pr = list(sdf[\"P>|z|\"])\n",
    "assert 0.2957 in co, \"Ex. 1 - For some reason, you obtained the wrong coefficient for gpa. Did you normalize the variables, created an Intercept and used the Logit function from statmodels? Check out the main case if you need to brush up!\"\n",
    "assert 0.2650 in co, \"Ex. 1 - For some reason, you obtained the wrong coefficient for gre. Did you normalize the variables, created an Intercept and used the Logit function from statmodels? Check out the main case if you need to brush up!\"\n",
    "assert -0.5600 in co, \"Ex. 1 - For some reason, you obtained the wrong coefficient for rank. Did you normalize the variables, created an Intercept and used the Logit function from statmodels? Check out the main case if you need to brush up!\"\n",
    "assert sum(sdf[\"P>|z|\"] > 0.05) == 1, \"Ex. 1 - For some reason, you obtained a wrong p-value for one or more of your explanatory variables. Did you normalize the variables, created an Intercept and used the Logit function from statmodels? Check out the main case if you need to brush up!\"\n",
    "print(\"Exercise 1 looks correct!\")"
   ]
  },
  {
   "cell_type": "code",
   "execution_count": 15,
   "metadata": {
    "deletable": false,
    "editable": false,
    "nbgrader": {
     "cell_type": "code",
     "checksum": "4811dc9fa693f96cbce94944c6fa8970",
     "grade": true,
     "grade_id": "cell-2bdc0be15e752b81",
     "locked": true,
     "points": 1,
     "schema_version": 3,
     "solution": false,
     "task": false
    }
   },
   "outputs": [
    {
     "name": "stdout",
     "output_type": "stream",
     "text": [
      "Exercise 2 looks correct!\n"
     ]
    }
   ],
   "source": [
    "# Ex. 2 (one point)\n",
    "from sklearn.metrics import auc\n",
    "model_res = fit_logistic_regression()\n",
    "roc_p = calculate_roc(model_res)\n",
    "assert -0.01 < (auc( roc_p[0], roc_p[1] ) - 0.6921202157422629) < 0.01 , \"Ex. 2 - We tried calculating your ROC's AUC, but it seems the numbers don't match! Please refer to the main case, section 'The Receiver Operating Characteristic (ROC) curve', to see how to compute a ROC curve.\"\n",
    "print(\"Exercise 2 looks correct!\")"
   ]
  },
  {
   "cell_type": "code",
   "execution_count": 16,
   "metadata": {
    "deletable": false,
    "editable": false,
    "nbgrader": {
     "cell_type": "code",
     "checksum": "93a7cc8e8a88aae5ef1fed1e98dba3d2",
     "grade": true,
     "grade_id": "cell-ed00659728b6ef6e",
     "locked": true,
     "points": 1,
     "schema_version": 3,
     "solution": false,
     "task": false
    }
   },
   "outputs": [
    {
     "name": "stdout",
     "output_type": "stream",
     "text": [
      "Exercise 3 looks correct!\n"
     ]
    }
   ],
   "source": [
    "# Ex. 3 (one point)\n",
    "class_as_admitted = []\n",
    "for p in [0.1, 0.5, 0.9]:\n",
    "    res = df[[\"gre_normalized\", \"gpa_normalized\", \"rank\"]].apply(lambda x: classify(p, x[0], x[1], x[2]), axis=1)\n",
    "    class_as_admitted.append(res.sum())\n",
    "\n",
    "assert class_as_admitted == [385, 49, 0], \"Ex. 3 - When we apply your function to the dataset, we get some unexpected results. Remember that a logistic regression is just logodds(p) = estimated_intercept + b1*v1 + ... + bn*vn where vn is variable n and bn its corresponding coefficient. Check out the main case for more information.\"\n",
    "print(\"Exercise 3 looks correct!\")"
   ]
  },
  {
   "cell_type": "markdown",
   "metadata": {},
   "source": [
    "## Attribution\n",
    "\n",
    "\"binary.csv\" (dataset), Dec 16, 2013, UCLA Institute for Digital Research and Education - Statistical Consulting, [UCLA Statistical Consulting license](https://stats.idre.ucla.edu/ucla/about/), https://stats.idre.ucla.edu/r/dae/logit-regression/"
   ]
  }
 ],
 "metadata": {
  "c1_recart": "7.28.0-57c20131aabc1dc2a8c675852d80a7da",
  "kernelspec": {
   "display_name": "Python 3",
   "language": "python",
   "name": "python3"
  },
  "language_info": {
   "codemirror_mode": {
    "name": "ipython",
    "version": 3
   },
   "file_extension": ".py",
   "mimetype": "text/x-python",
   "name": "python",
   "nbconvert_exporter": "python",
   "pygments_lexer": "ipython3",
   "version": "3.8.12"
  }
 },
 "nbformat": 4,
 "nbformat_minor": 2
}
